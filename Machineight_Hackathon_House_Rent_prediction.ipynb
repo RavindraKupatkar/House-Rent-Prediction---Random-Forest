{
  "nbformat": 4,
  "nbformat_minor": 0,
  "metadata": {
    "colab": {
      "provenance": [],
      "collapsed_sections": []
    },
    "kernelspec": {
      "name": "python3",
      "display_name": "Python 3"
    },
    "language_info": {
      "name": "python"
    }
  },
  "cells": [
    {
      "cell_type": "code",
      "execution_count": null,
      "metadata": {
        "id": "SDWDY5wJq2yX"
      },
      "outputs": [],
      "source": [
        "import numpy as np # linear algebra\n",
        "import pandas as pd \n",
        "import warnings\n",
        "\n",
        "def fxn():\n",
        "    warnings.warn(\"deprecated\", DeprecationWarning)\n",
        "\n",
        "with warnings.catch_warnings():\n",
        "    warnings.simplefilter(\"ignore\")\n",
        "    fxn()"
      ]
    },
    {
      "cell_type": "code",
      "source": [
        "import pandas as pd\n",
        "import numpy as np\n",
        "from sklearn.model_selection import train_test_split\n",
        "from sklearn.metrics import mean_absolute_error\n",
        "from sklearn.ensemble import RandomForestRegressor"
      ],
      "metadata": {
        "id": "I6klobU5rmaB"
      },
      "execution_count": null,
      "outputs": []
    },
    {
      "cell_type": "code",
      "source": [
        "housing_train = pd.read_csv('/content/train.csv') # import training file\n",
        "housing_test = pd.read_csv('/content/test.csv') # import test file\n",
        "housing_train.head() # Print first 5 rows of dataframe"
      ],
      "metadata": {
        "colab": {
          "base_uri": "https://localhost:8080/",
          "height": 317
        },
        "id": "APVP5v18r6vR",
        "outputId": "75fd6712-9014-4b45-db67-20fcce5ec45f"
      },
      "execution_count": null,
      "outputs": [
        {
          "output_type": "execute_result",
          "data": {
            "text/plain": [
              "                                 id  type                    locality  \\\n",
              "0  ff8081815733a243015733b2876600a6  BHK2  Cauvery Colony,Koramangala   \n",
              "1  ff8081815ee25e15015ee50004da2acd  BHK2                   Bellandur   \n",
              "2  ff80818163f29c9e0163f46770b873e7  BHK3               Thiruvanmiyur   \n",
              "3  ff80818164b68a700164b74b1b247a1d  BHK1                   Attiguppe   \n",
              "4  ff80818163b1faf00163b4b9b8a163b1  BHK3                   Kodihalli   \n",
              "\n",
              "    activation_date   latitude  longitude lease_type  gym  lift  \\\n",
              "0  21-04-2018 14:44  12.934471  77.634471     FAMILY    1     1   \n",
              "1  09-10-2017 12:48  12.929557  77.672280     ANYONE    0     1   \n",
              "2  12-06-2018 22:02  12.982870  80.262012     FAMILY    0     1   \n",
              "3  20-07-2018 16:22  12.955991  77.531634     FAMILY    0     0   \n",
              "4  31-05-2018 17:41  12.963903  77.649446     FAMILY    0     0   \n",
              "\n",
              "   swimming_pool  ...  bathroom facing cup_board  floor  total_floor  \\\n",
              "0              1  ...         2      E         2      6           12   \n",
              "1              0  ...         2     NE         2      3            4   \n",
              "2              0  ...         3      E         3      1            5   \n",
              "3              0  ...         1      E         1      1            2   \n",
              "4              0  ...         3      E         4      0            0   \n",
              "\n",
              "                                           amenities water_supply  \\\n",
              "0  {\"LIFT\":true,\"GYM\":true,\"INTERNET\":true,\"AC\":f...    CORP_BORE   \n",
              "1  {\"LIFT\":true,\"GYM\":false,\"INTERNET\":false,\"AC\"...  CORPORATION   \n",
              "2  {\"LIFT\":true,\"GYM\":false,\"INTERNET\":false,\"AC\"...    CORP_BORE   \n",
              "3  {\"LIFT\":false,\"GYM\":false,\"INTERNET\":false,\"AC...  CORPORATION   \n",
              "4  {\"LIFT\":false,\"GYM\":false,\"INTERNET\":false,\"AC...  CORPORATION   \n",
              "\n",
              "   building_type  balconies   rent  \n",
              "0             AP          2  40000  \n",
              "1             AP          2  22000  \n",
              "2             AP          3  28000  \n",
              "3             IH          0   8000  \n",
              "4             IH          1  45000  \n",
              "\n",
              "[5 rows x 25 columns]"
            ],
            "text/html": [
              "\n",
              "  <div id=\"df-b3fab6b9-603f-4c53-a32b-ce1445e33c43\">\n",
              "    <div class=\"colab-df-container\">\n",
              "      <div>\n",
              "<style scoped>\n",
              "    .dataframe tbody tr th:only-of-type {\n",
              "        vertical-align: middle;\n",
              "    }\n",
              "\n",
              "    .dataframe tbody tr th {\n",
              "        vertical-align: top;\n",
              "    }\n",
              "\n",
              "    .dataframe thead th {\n",
              "        text-align: right;\n",
              "    }\n",
              "</style>\n",
              "<table border=\"1\" class=\"dataframe\">\n",
              "  <thead>\n",
              "    <tr style=\"text-align: right;\">\n",
              "      <th></th>\n",
              "      <th>id</th>\n",
              "      <th>type</th>\n",
              "      <th>locality</th>\n",
              "      <th>activation_date</th>\n",
              "      <th>latitude</th>\n",
              "      <th>longitude</th>\n",
              "      <th>lease_type</th>\n",
              "      <th>gym</th>\n",
              "      <th>lift</th>\n",
              "      <th>swimming_pool</th>\n",
              "      <th>...</th>\n",
              "      <th>bathroom</th>\n",
              "      <th>facing</th>\n",
              "      <th>cup_board</th>\n",
              "      <th>floor</th>\n",
              "      <th>total_floor</th>\n",
              "      <th>amenities</th>\n",
              "      <th>water_supply</th>\n",
              "      <th>building_type</th>\n",
              "      <th>balconies</th>\n",
              "      <th>rent</th>\n",
              "    </tr>\n",
              "  </thead>\n",
              "  <tbody>\n",
              "    <tr>\n",
              "      <th>0</th>\n",
              "      <td>ff8081815733a243015733b2876600a6</td>\n",
              "      <td>BHK2</td>\n",
              "      <td>Cauvery Colony,Koramangala</td>\n",
              "      <td>21-04-2018 14:44</td>\n",
              "      <td>12.934471</td>\n",
              "      <td>77.634471</td>\n",
              "      <td>FAMILY</td>\n",
              "      <td>1</td>\n",
              "      <td>1</td>\n",
              "      <td>1</td>\n",
              "      <td>...</td>\n",
              "      <td>2</td>\n",
              "      <td>E</td>\n",
              "      <td>2</td>\n",
              "      <td>6</td>\n",
              "      <td>12</td>\n",
              "      <td>{\"LIFT\":true,\"GYM\":true,\"INTERNET\":true,\"AC\":f...</td>\n",
              "      <td>CORP_BORE</td>\n",
              "      <td>AP</td>\n",
              "      <td>2</td>\n",
              "      <td>40000</td>\n",
              "    </tr>\n",
              "    <tr>\n",
              "      <th>1</th>\n",
              "      <td>ff8081815ee25e15015ee50004da2acd</td>\n",
              "      <td>BHK2</td>\n",
              "      <td>Bellandur</td>\n",
              "      <td>09-10-2017 12:48</td>\n",
              "      <td>12.929557</td>\n",
              "      <td>77.672280</td>\n",
              "      <td>ANYONE</td>\n",
              "      <td>0</td>\n",
              "      <td>1</td>\n",
              "      <td>0</td>\n",
              "      <td>...</td>\n",
              "      <td>2</td>\n",
              "      <td>NE</td>\n",
              "      <td>2</td>\n",
              "      <td>3</td>\n",
              "      <td>4</td>\n",
              "      <td>{\"LIFT\":true,\"GYM\":false,\"INTERNET\":false,\"AC\"...</td>\n",
              "      <td>CORPORATION</td>\n",
              "      <td>AP</td>\n",
              "      <td>2</td>\n",
              "      <td>22000</td>\n",
              "    </tr>\n",
              "    <tr>\n",
              "      <th>2</th>\n",
              "      <td>ff80818163f29c9e0163f46770b873e7</td>\n",
              "      <td>BHK3</td>\n",
              "      <td>Thiruvanmiyur</td>\n",
              "      <td>12-06-2018 22:02</td>\n",
              "      <td>12.982870</td>\n",
              "      <td>80.262012</td>\n",
              "      <td>FAMILY</td>\n",
              "      <td>0</td>\n",
              "      <td>1</td>\n",
              "      <td>0</td>\n",
              "      <td>...</td>\n",
              "      <td>3</td>\n",
              "      <td>E</td>\n",
              "      <td>3</td>\n",
              "      <td>1</td>\n",
              "      <td>5</td>\n",
              "      <td>{\"LIFT\":true,\"GYM\":false,\"INTERNET\":false,\"AC\"...</td>\n",
              "      <td>CORP_BORE</td>\n",
              "      <td>AP</td>\n",
              "      <td>3</td>\n",
              "      <td>28000</td>\n",
              "    </tr>\n",
              "    <tr>\n",
              "      <th>3</th>\n",
              "      <td>ff80818164b68a700164b74b1b247a1d</td>\n",
              "      <td>BHK1</td>\n",
              "      <td>Attiguppe</td>\n",
              "      <td>20-07-2018 16:22</td>\n",
              "      <td>12.955991</td>\n",
              "      <td>77.531634</td>\n",
              "      <td>FAMILY</td>\n",
              "      <td>0</td>\n",
              "      <td>0</td>\n",
              "      <td>0</td>\n",
              "      <td>...</td>\n",
              "      <td>1</td>\n",
              "      <td>E</td>\n",
              "      <td>1</td>\n",
              "      <td>1</td>\n",
              "      <td>2</td>\n",
              "      <td>{\"LIFT\":false,\"GYM\":false,\"INTERNET\":false,\"AC...</td>\n",
              "      <td>CORPORATION</td>\n",
              "      <td>IH</td>\n",
              "      <td>0</td>\n",
              "      <td>8000</td>\n",
              "    </tr>\n",
              "    <tr>\n",
              "      <th>4</th>\n",
              "      <td>ff80818163b1faf00163b4b9b8a163b1</td>\n",
              "      <td>BHK3</td>\n",
              "      <td>Kodihalli</td>\n",
              "      <td>31-05-2018 17:41</td>\n",
              "      <td>12.963903</td>\n",
              "      <td>77.649446</td>\n",
              "      <td>FAMILY</td>\n",
              "      <td>0</td>\n",
              "      <td>0</td>\n",
              "      <td>0</td>\n",
              "      <td>...</td>\n",
              "      <td>3</td>\n",
              "      <td>E</td>\n",
              "      <td>4</td>\n",
              "      <td>0</td>\n",
              "      <td>0</td>\n",
              "      <td>{\"LIFT\":false,\"GYM\":false,\"INTERNET\":false,\"AC...</td>\n",
              "      <td>CORPORATION</td>\n",
              "      <td>IH</td>\n",
              "      <td>1</td>\n",
              "      <td>45000</td>\n",
              "    </tr>\n",
              "  </tbody>\n",
              "</table>\n",
              "<p>5 rows × 25 columns</p>\n",
              "</div>\n",
              "      <button class=\"colab-df-convert\" onclick=\"convertToInteractive('df-b3fab6b9-603f-4c53-a32b-ce1445e33c43')\"\n",
              "              title=\"Convert this dataframe to an interactive table.\"\n",
              "              style=\"display:none;\">\n",
              "        \n",
              "  <svg xmlns=\"http://www.w3.org/2000/svg\" height=\"24px\"viewBox=\"0 0 24 24\"\n",
              "       width=\"24px\">\n",
              "    <path d=\"M0 0h24v24H0V0z\" fill=\"none\"/>\n",
              "    <path d=\"M18.56 5.44l.94 2.06.94-2.06 2.06-.94-2.06-.94-.94-2.06-.94 2.06-2.06.94zm-11 1L8.5 8.5l.94-2.06 2.06-.94-2.06-.94L8.5 2.5l-.94 2.06-2.06.94zm10 10l.94 2.06.94-2.06 2.06-.94-2.06-.94-.94-2.06-.94 2.06-2.06.94z\"/><path d=\"M17.41 7.96l-1.37-1.37c-.4-.4-.92-.59-1.43-.59-.52 0-1.04.2-1.43.59L10.3 9.45l-7.72 7.72c-.78.78-.78 2.05 0 2.83L4 21.41c.39.39.9.59 1.41.59.51 0 1.02-.2 1.41-.59l7.78-7.78 2.81-2.81c.8-.78.8-2.07 0-2.86zM5.41 20L4 18.59l7.72-7.72 1.47 1.35L5.41 20z\"/>\n",
              "  </svg>\n",
              "      </button>\n",
              "      \n",
              "  <style>\n",
              "    .colab-df-container {\n",
              "      display:flex;\n",
              "      flex-wrap:wrap;\n",
              "      gap: 12px;\n",
              "    }\n",
              "\n",
              "    .colab-df-convert {\n",
              "      background-color: #E8F0FE;\n",
              "      border: none;\n",
              "      border-radius: 50%;\n",
              "      cursor: pointer;\n",
              "      display: none;\n",
              "      fill: #1967D2;\n",
              "      height: 32px;\n",
              "      padding: 0 0 0 0;\n",
              "      width: 32px;\n",
              "    }\n",
              "\n",
              "    .colab-df-convert:hover {\n",
              "      background-color: #E2EBFA;\n",
              "      box-shadow: 0px 1px 2px rgba(60, 64, 67, 0.3), 0px 1px 3px 1px rgba(60, 64, 67, 0.15);\n",
              "      fill: #174EA6;\n",
              "    }\n",
              "\n",
              "    [theme=dark] .colab-df-convert {\n",
              "      background-color: #3B4455;\n",
              "      fill: #D2E3FC;\n",
              "    }\n",
              "\n",
              "    [theme=dark] .colab-df-convert:hover {\n",
              "      background-color: #434B5C;\n",
              "      box-shadow: 0px 1px 3px 1px rgba(0, 0, 0, 0.15);\n",
              "      filter: drop-shadow(0px 1px 2px rgba(0, 0, 0, 0.3));\n",
              "      fill: #FFFFFF;\n",
              "    }\n",
              "  </style>\n",
              "\n",
              "      <script>\n",
              "        const buttonEl =\n",
              "          document.querySelector('#df-b3fab6b9-603f-4c53-a32b-ce1445e33c43 button.colab-df-convert');\n",
              "        buttonEl.style.display =\n",
              "          google.colab.kernel.accessAllowed ? 'block' : 'none';\n",
              "\n",
              "        async function convertToInteractive(key) {\n",
              "          const element = document.querySelector('#df-b3fab6b9-603f-4c53-a32b-ce1445e33c43');\n",
              "          const dataTable =\n",
              "            await google.colab.kernel.invokeFunction('convertToInteractive',\n",
              "                                                     [key], {});\n",
              "          if (!dataTable) return;\n",
              "\n",
              "          const docLinkHtml = 'Like what you see? Visit the ' +\n",
              "            '<a target=\"_blank\" href=https://colab.research.google.com/notebooks/data_table.ipynb>data table notebook</a>'\n",
              "            + ' to learn more about interactive tables.';\n",
              "          element.innerHTML = '';\n",
              "          dataTable['output_type'] = 'display_data';\n",
              "          await google.colab.output.renderOutput(dataTable, element);\n",
              "          const docLink = document.createElement('div');\n",
              "          docLink.innerHTML = docLinkHtml;\n",
              "          element.appendChild(docLink);\n",
              "        }\n",
              "      </script>\n",
              "    </div>\n",
              "  </div>\n",
              "  "
            ]
          },
          "metadata": {},
          "execution_count": 47
        }
      ]
    },
    {
      "cell_type": "code",
      "source": [
        "housing_train.shape # This dataframe is 20500 rows x 25 columns"
      ],
      "metadata": {
        "colab": {
          "base_uri": "https://localhost:8080/"
        },
        "id": "wVoy4pEbsLdd",
        "outputId": "5cb4dcd0-d37d-4892-aa03-7c13bb315c7a"
      },
      "execution_count": null,
      "outputs": [
        {
          "output_type": "execute_result",
          "data": {
            "text/plain": [
              "(20500, 25)"
            ]
          },
          "metadata": {},
          "execution_count": 48
        }
      ]
    },
    {
      "cell_type": "code",
      "source": [
        "housing_train.describe() # Get a view of some information about the data"
      ],
      "metadata": {
        "colab": {
          "base_uri": "https://localhost:8080/",
          "height": 364
        },
        "id": "epGT49mysVvg",
        "outputId": "ad585c5c-4a5c-4afb-fb0e-f7389d5306e3"
      },
      "execution_count": null,
      "outputs": [
        {
          "output_type": "execute_result",
          "data": {
            "text/plain": [
              "           latitude     longitude           gym          lift  swimming_pool  \\\n",
              "count  20500.000000  20500.000000  20500.000000  20500.000000   20500.000000   \n",
              "mean      12.945751     77.637280      0.226732      0.361463       0.174927   \n",
              "std        0.029594      0.110586      0.418728      0.480436       0.379914   \n",
              "min       12.900004     77.500072      0.000000      0.000000       0.000000   \n",
              "25%       12.918188     77.571956      0.000000      0.000000       0.000000   \n",
              "50%       12.943800     77.633491      0.000000      0.000000       0.000000   \n",
              "75%       12.970952     77.695760      0.000000      1.000000       0.000000   \n",
              "max       12.999999     80.266346      1.000000      1.000000       1.000000   \n",
              "\n",
              "         negotiable  property_size  property_age      bathroom     cup_board  \\\n",
              "count  20500.000000   20500.000000  20500.000000  20500.000000  20500.000000   \n",
              "mean       0.711512    1061.829463      5.770634      1.858146      4.553512   \n",
              "std        0.453070     591.419631      6.350271      0.710822    335.416267   \n",
              "min        0.000000       1.000000     -1.000000      1.000000      0.000000   \n",
              "25%        0.000000     700.000000      1.000000      1.000000      1.000000   \n",
              "50%        1.000000    1047.000000      5.000000      2.000000      2.000000   \n",
              "75%        1.000000    1281.000000     10.000000      2.000000      3.000000   \n",
              "max        1.000000   50000.000000    400.000000     21.000000  48026.000000   \n",
              "\n",
              "              floor   total_floor     balconies          rent  \n",
              "count  20500.000000  20500.000000  20500.000000  20500.000000  \n",
              "mean       1.873561      3.801610      1.148976  19053.602195  \n",
              "std        2.184927      3.185748      0.993835   8433.949300  \n",
              "min        0.000000      0.000000      0.000000   8000.000000  \n",
              "25%        1.000000      2.000000      0.000000  12500.000000  \n",
              "50%        1.000000      3.000000      1.000000  17500.000000  \n",
              "75%        2.000000      4.000000      2.000000  24000.000000  \n",
              "max       25.000000     26.000000     13.000000  50000.000000  "
            ],
            "text/html": [
              "\n",
              "  <div id=\"df-efdf1b55-8e9d-4855-822f-cfecedc7ef3d\">\n",
              "    <div class=\"colab-df-container\">\n",
              "      <div>\n",
              "<style scoped>\n",
              "    .dataframe tbody tr th:only-of-type {\n",
              "        vertical-align: middle;\n",
              "    }\n",
              "\n",
              "    .dataframe tbody tr th {\n",
              "        vertical-align: top;\n",
              "    }\n",
              "\n",
              "    .dataframe thead th {\n",
              "        text-align: right;\n",
              "    }\n",
              "</style>\n",
              "<table border=\"1\" class=\"dataframe\">\n",
              "  <thead>\n",
              "    <tr style=\"text-align: right;\">\n",
              "      <th></th>\n",
              "      <th>latitude</th>\n",
              "      <th>longitude</th>\n",
              "      <th>gym</th>\n",
              "      <th>lift</th>\n",
              "      <th>swimming_pool</th>\n",
              "      <th>negotiable</th>\n",
              "      <th>property_size</th>\n",
              "      <th>property_age</th>\n",
              "      <th>bathroom</th>\n",
              "      <th>cup_board</th>\n",
              "      <th>floor</th>\n",
              "      <th>total_floor</th>\n",
              "      <th>balconies</th>\n",
              "      <th>rent</th>\n",
              "    </tr>\n",
              "  </thead>\n",
              "  <tbody>\n",
              "    <tr>\n",
              "      <th>count</th>\n",
              "      <td>20500.000000</td>\n",
              "      <td>20500.000000</td>\n",
              "      <td>20500.000000</td>\n",
              "      <td>20500.000000</td>\n",
              "      <td>20500.000000</td>\n",
              "      <td>20500.000000</td>\n",
              "      <td>20500.000000</td>\n",
              "      <td>20500.000000</td>\n",
              "      <td>20500.000000</td>\n",
              "      <td>20500.000000</td>\n",
              "      <td>20500.000000</td>\n",
              "      <td>20500.000000</td>\n",
              "      <td>20500.000000</td>\n",
              "      <td>20500.000000</td>\n",
              "    </tr>\n",
              "    <tr>\n",
              "      <th>mean</th>\n",
              "      <td>12.945751</td>\n",
              "      <td>77.637280</td>\n",
              "      <td>0.226732</td>\n",
              "      <td>0.361463</td>\n",
              "      <td>0.174927</td>\n",
              "      <td>0.711512</td>\n",
              "      <td>1061.829463</td>\n",
              "      <td>5.770634</td>\n",
              "      <td>1.858146</td>\n",
              "      <td>4.553512</td>\n",
              "      <td>1.873561</td>\n",
              "      <td>3.801610</td>\n",
              "      <td>1.148976</td>\n",
              "      <td>19053.602195</td>\n",
              "    </tr>\n",
              "    <tr>\n",
              "      <th>std</th>\n",
              "      <td>0.029594</td>\n",
              "      <td>0.110586</td>\n",
              "      <td>0.418728</td>\n",
              "      <td>0.480436</td>\n",
              "      <td>0.379914</td>\n",
              "      <td>0.453070</td>\n",
              "      <td>591.419631</td>\n",
              "      <td>6.350271</td>\n",
              "      <td>0.710822</td>\n",
              "      <td>335.416267</td>\n",
              "      <td>2.184927</td>\n",
              "      <td>3.185748</td>\n",
              "      <td>0.993835</td>\n",
              "      <td>8433.949300</td>\n",
              "    </tr>\n",
              "    <tr>\n",
              "      <th>min</th>\n",
              "      <td>12.900004</td>\n",
              "      <td>77.500072</td>\n",
              "      <td>0.000000</td>\n",
              "      <td>0.000000</td>\n",
              "      <td>0.000000</td>\n",
              "      <td>0.000000</td>\n",
              "      <td>1.000000</td>\n",
              "      <td>-1.000000</td>\n",
              "      <td>1.000000</td>\n",
              "      <td>0.000000</td>\n",
              "      <td>0.000000</td>\n",
              "      <td>0.000000</td>\n",
              "      <td>0.000000</td>\n",
              "      <td>8000.000000</td>\n",
              "    </tr>\n",
              "    <tr>\n",
              "      <th>25%</th>\n",
              "      <td>12.918188</td>\n",
              "      <td>77.571956</td>\n",
              "      <td>0.000000</td>\n",
              "      <td>0.000000</td>\n",
              "      <td>0.000000</td>\n",
              "      <td>0.000000</td>\n",
              "      <td>700.000000</td>\n",
              "      <td>1.000000</td>\n",
              "      <td>1.000000</td>\n",
              "      <td>1.000000</td>\n",
              "      <td>1.000000</td>\n",
              "      <td>2.000000</td>\n",
              "      <td>0.000000</td>\n",
              "      <td>12500.000000</td>\n",
              "    </tr>\n",
              "    <tr>\n",
              "      <th>50%</th>\n",
              "      <td>12.943800</td>\n",
              "      <td>77.633491</td>\n",
              "      <td>0.000000</td>\n",
              "      <td>0.000000</td>\n",
              "      <td>0.000000</td>\n",
              "      <td>1.000000</td>\n",
              "      <td>1047.000000</td>\n",
              "      <td>5.000000</td>\n",
              "      <td>2.000000</td>\n",
              "      <td>2.000000</td>\n",
              "      <td>1.000000</td>\n",
              "      <td>3.000000</td>\n",
              "      <td>1.000000</td>\n",
              "      <td>17500.000000</td>\n",
              "    </tr>\n",
              "    <tr>\n",
              "      <th>75%</th>\n",
              "      <td>12.970952</td>\n",
              "      <td>77.695760</td>\n",
              "      <td>0.000000</td>\n",
              "      <td>1.000000</td>\n",
              "      <td>0.000000</td>\n",
              "      <td>1.000000</td>\n",
              "      <td>1281.000000</td>\n",
              "      <td>10.000000</td>\n",
              "      <td>2.000000</td>\n",
              "      <td>3.000000</td>\n",
              "      <td>2.000000</td>\n",
              "      <td>4.000000</td>\n",
              "      <td>2.000000</td>\n",
              "      <td>24000.000000</td>\n",
              "    </tr>\n",
              "    <tr>\n",
              "      <th>max</th>\n",
              "      <td>12.999999</td>\n",
              "      <td>80.266346</td>\n",
              "      <td>1.000000</td>\n",
              "      <td>1.000000</td>\n",
              "      <td>1.000000</td>\n",
              "      <td>1.000000</td>\n",
              "      <td>50000.000000</td>\n",
              "      <td>400.000000</td>\n",
              "      <td>21.000000</td>\n",
              "      <td>48026.000000</td>\n",
              "      <td>25.000000</td>\n",
              "      <td>26.000000</td>\n",
              "      <td>13.000000</td>\n",
              "      <td>50000.000000</td>\n",
              "    </tr>\n",
              "  </tbody>\n",
              "</table>\n",
              "</div>\n",
              "      <button class=\"colab-df-convert\" onclick=\"convertToInteractive('df-efdf1b55-8e9d-4855-822f-cfecedc7ef3d')\"\n",
              "              title=\"Convert this dataframe to an interactive table.\"\n",
              "              style=\"display:none;\">\n",
              "        \n",
              "  <svg xmlns=\"http://www.w3.org/2000/svg\" height=\"24px\"viewBox=\"0 0 24 24\"\n",
              "       width=\"24px\">\n",
              "    <path d=\"M0 0h24v24H0V0z\" fill=\"none\"/>\n",
              "    <path d=\"M18.56 5.44l.94 2.06.94-2.06 2.06-.94-2.06-.94-.94-2.06-.94 2.06-2.06.94zm-11 1L8.5 8.5l.94-2.06 2.06-.94-2.06-.94L8.5 2.5l-.94 2.06-2.06.94zm10 10l.94 2.06.94-2.06 2.06-.94-2.06-.94-.94-2.06-.94 2.06-2.06.94z\"/><path d=\"M17.41 7.96l-1.37-1.37c-.4-.4-.92-.59-1.43-.59-.52 0-1.04.2-1.43.59L10.3 9.45l-7.72 7.72c-.78.78-.78 2.05 0 2.83L4 21.41c.39.39.9.59 1.41.59.51 0 1.02-.2 1.41-.59l7.78-7.78 2.81-2.81c.8-.78.8-2.07 0-2.86zM5.41 20L4 18.59l7.72-7.72 1.47 1.35L5.41 20z\"/>\n",
              "  </svg>\n",
              "      </button>\n",
              "      \n",
              "  <style>\n",
              "    .colab-df-container {\n",
              "      display:flex;\n",
              "      flex-wrap:wrap;\n",
              "      gap: 12px;\n",
              "    }\n",
              "\n",
              "    .colab-df-convert {\n",
              "      background-color: #E8F0FE;\n",
              "      border: none;\n",
              "      border-radius: 50%;\n",
              "      cursor: pointer;\n",
              "      display: none;\n",
              "      fill: #1967D2;\n",
              "      height: 32px;\n",
              "      padding: 0 0 0 0;\n",
              "      width: 32px;\n",
              "    }\n",
              "\n",
              "    .colab-df-convert:hover {\n",
              "      background-color: #E2EBFA;\n",
              "      box-shadow: 0px 1px 2px rgba(60, 64, 67, 0.3), 0px 1px 3px 1px rgba(60, 64, 67, 0.15);\n",
              "      fill: #174EA6;\n",
              "    }\n",
              "\n",
              "    [theme=dark] .colab-df-convert {\n",
              "      background-color: #3B4455;\n",
              "      fill: #D2E3FC;\n",
              "    }\n",
              "\n",
              "    [theme=dark] .colab-df-convert:hover {\n",
              "      background-color: #434B5C;\n",
              "      box-shadow: 0px 1px 3px 1px rgba(0, 0, 0, 0.15);\n",
              "      filter: drop-shadow(0px 1px 2px rgba(0, 0, 0, 0.3));\n",
              "      fill: #FFFFFF;\n",
              "    }\n",
              "  </style>\n",
              "\n",
              "      <script>\n",
              "        const buttonEl =\n",
              "          document.querySelector('#df-efdf1b55-8e9d-4855-822f-cfecedc7ef3d button.colab-df-convert');\n",
              "        buttonEl.style.display =\n",
              "          google.colab.kernel.accessAllowed ? 'block' : 'none';\n",
              "\n",
              "        async function convertToInteractive(key) {\n",
              "          const element = document.querySelector('#df-efdf1b55-8e9d-4855-822f-cfecedc7ef3d');\n",
              "          const dataTable =\n",
              "            await google.colab.kernel.invokeFunction('convertToInteractive',\n",
              "                                                     [key], {});\n",
              "          if (!dataTable) return;\n",
              "\n",
              "          const docLinkHtml = 'Like what you see? Visit the ' +\n",
              "            '<a target=\"_blank\" href=https://colab.research.google.com/notebooks/data_table.ipynb>data table notebook</a>'\n",
              "            + ' to learn more about interactive tables.';\n",
              "          element.innerHTML = '';\n",
              "          dataTable['output_type'] = 'display_data';\n",
              "          await google.colab.output.renderOutput(dataTable, element);\n",
              "          const docLink = document.createElement('div');\n",
              "          docLink.innerHTML = docLinkHtml;\n",
              "          element.appendChild(docLink);\n",
              "        }\n",
              "      </script>\n",
              "    </div>\n",
              "  </div>\n",
              "  "
            ]
          },
          "metadata": {},
          "execution_count": 49
        }
      ]
    },
    {
      "cell_type": "code",
      "source": [
        "housing_train.columns # Print out columns of the dataframe"
      ],
      "metadata": {
        "colab": {
          "base_uri": "https://localhost:8080/"
        },
        "id": "rj5eMTs1siLH",
        "outputId": "4fb5e20e-860d-438d-dd34-65b58576f03d"
      },
      "execution_count": null,
      "outputs": [
        {
          "output_type": "execute_result",
          "data": {
            "text/plain": [
              "Index(['id', 'type', 'locality', 'activation_date', 'latitude', 'longitude',\n",
              "       'lease_type', 'gym', 'lift', 'swimming_pool', 'negotiable',\n",
              "       'furnishing', 'parking', 'property_size', 'property_age', 'bathroom',\n",
              "       'facing', 'cup_board', 'floor', 'total_floor', 'amenities',\n",
              "       'water_supply', 'building_type', 'balconies', 'rent'],\n",
              "      dtype='object')"
            ]
          },
          "metadata": {},
          "execution_count": 50
        }
      ]
    },
    {
      "cell_type": "code",
      "source": [
        "housing_train.info()"
      ],
      "metadata": {
        "colab": {
          "base_uri": "https://localhost:8080/"
        },
        "id": "qxMURb5BxYP8",
        "outputId": "f752a57b-728c-409a-afdf-f5bda92acc01"
      },
      "execution_count": null,
      "outputs": [
        {
          "output_type": "stream",
          "name": "stdout",
          "text": [
            "<class 'pandas.core.frame.DataFrame'>\n",
            "RangeIndex: 20500 entries, 0 to 20499\n",
            "Data columns (total 25 columns):\n",
            " #   Column           Non-Null Count  Dtype  \n",
            "---  ------           --------------  -----  \n",
            " 0   id               20500 non-null  object \n",
            " 1   type             20500 non-null  object \n",
            " 2   locality         20500 non-null  object \n",
            " 3   activation_date  20500 non-null  object \n",
            " 4   latitude         20500 non-null  float64\n",
            " 5   longitude        20500 non-null  float64\n",
            " 6   lease_type       20500 non-null  object \n",
            " 7   gym              20500 non-null  int64  \n",
            " 8   lift             20500 non-null  int64  \n",
            " 9   swimming_pool    20500 non-null  int64  \n",
            " 10  negotiable       20500 non-null  int64  \n",
            " 11  furnishing       20500 non-null  object \n",
            " 12  parking          20500 non-null  object \n",
            " 13  property_size    20500 non-null  int64  \n",
            " 14  property_age     20500 non-null  int64  \n",
            " 15  bathroom         20500 non-null  int64  \n",
            " 16  facing           20500 non-null  object \n",
            " 17  cup_board        20500 non-null  int64  \n",
            " 18  floor            20500 non-null  int64  \n",
            " 19  total_floor      20500 non-null  int64  \n",
            " 20  amenities        20500 non-null  object \n",
            " 21  water_supply     20500 non-null  object \n",
            " 22  building_type    20500 non-null  object \n",
            " 23  balconies        20500 non-null  int64  \n",
            " 24  rent             20500 non-null  int64  \n",
            "dtypes: float64(2), int64(12), object(11)\n",
            "memory usage: 3.9+ MB\n"
          ]
        }
      ]
    },
    {
      "cell_type": "code",
      "source": [
        "import matplotlib.pyplot as plt\n",
        "import seaborn as sns\n",
        "from warnings import filterwarnings\n",
        "filterwarnings(action='ignore', category=DeprecationWarning)\n",
        "\n",
        "plt.figure(figsize=(24,13))\n",
        "\n",
        "# mask is used to see only half heatmap i.e. lower or upper triangular part\n",
        "d = housing_train.drop(\"id\",axis=1)\n",
        "corr = d.corr()\n",
        "\n",
        "mask = np.zeros_like(corr, dtype=np.bool)\n",
        "mask[np.triu_indices_from(mask)] = True\n",
        "\n",
        "sns.heatmap(corr, annot=True, fmt=\".2f\", mask=mask)"
      ],
      "metadata": {
        "colab": {
          "base_uri": "https://localhost:8080/",
          "height": 665
        },
        "id": "aMS6lEQbxs9i",
        "outputId": "44edaef0-c0a5-4599-f407-664be2e9a0e7"
      },
      "execution_count": null,
      "outputs": [
        {
          "output_type": "execute_result",
          "data": {
            "text/plain": [
              "<matplotlib.axes._subplots.AxesSubplot at 0x7fab18853850>"
            ]
          },
          "metadata": {},
          "execution_count": 52
        },
        {
          "output_type": "display_data",
          "data": {
            "text/plain": [
              "<Figure size 1728x936 with 2 Axes>"
            ],
            "image/png": "[encoded data removed]"
          },
          "metadata": {
            "needs_background": "light"
          }
        }
      ]
    },
    {
      "cell_type": "code",
      "source": [
        "print(housing_train.corr().nlargest(24, 'rent')['rent'].index)\n",
        "print(housing_train.corr().nlargest(24, 'rent')['rent'].values) \n",
        "\n",
        "print(housing_train.corr().nsmallest(5, 'rent')['rent'].index) \n",
        "print(housing_train.corr().nsmallest(5, 'rent')['rent'].values) "
      ],
      "metadata": {
        "colab": {
          "base_uri": "https://localhost:8080/"
        },
        "id": "TDugeVb5syNP",
        "outputId": "865486ea-eab7-4fb8-c9f3-ec42ffaea255"
      },
      "execution_count": null,
      "outputs": [
        {
          "output_type": "stream",
          "name": "stdout",
          "text": [
            "Index(['rent', 'bathroom', 'property_size', 'balconies', 'lift', 'total_floor',\n",
            "       'swimming_pool', 'gym', 'floor', 'longitude', 'negotiable', 'latitude',\n",
            "       'cup_board', 'property_age'],\n",
            "      dtype='object')\n",
            "[ 1.          0.67751618  0.58842549  0.47240546  0.46260558  0.4374365\n",
            "  0.43477603  0.43208127  0.30676886  0.1638641   0.06242997  0.03312966\n",
            " -0.00124728 -0.01078622]\n",
            "Index(['property_age', 'cup_board', 'latitude', 'negotiable', 'longitude'], dtype='object')\n",
            "[-0.01078622 -0.00124728  0.03312966  0.06242997  0.1638641 ]\n"
          ]
        }
      ]
    },
    {
      "cell_type": "code",
      "source": [
        "((housing_train.isnull().sum()/housing_train.isnull().count()).sort_values(ascending=False)) * 100\n",
        "# Checking for null values"
      ],
      "metadata": {
        "colab": {
          "base_uri": "https://localhost:8080/"
        },
        "id": "Dzo2np85tLEJ",
        "outputId": "ba15c0c5-2693-463e-f834-a2e5ea981265"
      },
      "execution_count": null,
      "outputs": [
        {
          "output_type": "execute_result",
          "data": {
            "text/plain": [
              "id                 0.0\n",
              "property_size      0.0\n",
              "balconies          0.0\n",
              "building_type      0.0\n",
              "water_supply       0.0\n",
              "amenities          0.0\n",
              "total_floor        0.0\n",
              "floor              0.0\n",
              "cup_board          0.0\n",
              "facing             0.0\n",
              "bathroom           0.0\n",
              "property_age       0.0\n",
              "parking            0.0\n",
              "type               0.0\n",
              "furnishing         0.0\n",
              "negotiable         0.0\n",
              "swimming_pool      0.0\n",
              "lift               0.0\n",
              "gym                0.0\n",
              "lease_type         0.0\n",
              "longitude          0.0\n",
              "latitude           0.0\n",
              "activation_date    0.0\n",
              "locality           0.0\n",
              "rent               0.0\n",
              "dtype: float64"
            ]
          },
          "metadata": {},
          "execution_count": 54
        }
      ]
    },
    {
      "cell_type": "code",
      "source": [
        "features = ['latitude', 'longitude',\n",
        "       'gym', 'lift', 'swimming_pool', 'negotiable',\n",
        "       'property_size', 'property_age', 'bathroom',\n",
        "       'cup_board', 'floor', 'total_floor',\n",
        "       'balconies']\n",
        "\n",
        "X = housing_train[features] # Assigning X and y to prepare for the model creation\n",
        "y = housing_train.rent\n",
        "\n",
        "print(X.shape) # Verifying that X and y have the same amount of rows\n",
        "print(y.shape)"
      ],
      "metadata": {
        "colab": {
          "base_uri": "https://localhost:8080/"
        },
        "id": "KpzukuUDuGIB",
        "outputId": "efa793df-e895-4f4a-b48c-1333238f0710"
      },
      "execution_count": null,
      "outputs": [
        {
          "output_type": "stream",
          "name": "stdout",
          "text": [
            "(20500, 13)\n",
            "(20500,)\n"
          ]
        }
      ]
    },
    {
      "cell_type": "code",
      "source": [
        "train_X, test_X, train_y, test_y = train_test_split(X, y, random_state=1) # Splitting data between training and test sets\n",
        "\n",
        "model = RandomForestRegressor(random_state=1) # Defining the Random Forest model\n",
        "\n",
        "model.fit(train_X, train_y) # Fitting the model to prepare it to be able to do its thing\n",
        "\n",
        "pred = model.predict(test_X) # Make predictions with the model\n",
        "\n",
        "# mae = mean_absolute_error(val_y, pred) # Compare actual values of SalePrice in the test data to the predictions that the model made\n",
        "# print(mae)\n",
        "\n",
        "pred.mean()"
      ],
      "metadata": {
        "colab": {
          "base_uri": "https://localhost:8080/"
        },
        "id": "EgnSLDVHu2XU",
        "outputId": "44ee1d95-df1a-4e4e-8776-1fec1177f2c4"
      },
      "execution_count": null,
      "outputs": [
        {
          "output_type": "execute_result",
          "data": {
            "text/plain": [
              "19179.709635772357"
            ]
          },
          "metadata": {},
          "execution_count": 68
        }
      ]
    },
    {
      "cell_type": "code",
      "source": [
        "from sklearn.metrics import mean_squared_error\n",
        "rmse=np.sqrt(mean_squared_error(test_y, pred))"
      ],
      "metadata": {
        "id": "HQDXb1-1TAs5"
      },
      "execution_count": null,
      "outputs": []
    },
    {
      "cell_type": "code",
      "source": [
        "rmse "
      ],
      "metadata": {
        "colab": {
          "base_uri": "https://localhost:8080/"
        },
        "id": "zFpg-3OMTA24",
        "outputId": "7da11916-5a5d-4a98-b243-c65457079ef5"
      },
      "execution_count": null,
      "outputs": [
        {
          "output_type": "execute_result",
          "data": {
            "text/plain": [
              "3921.202855957971"
            ]
          },
          "metadata": {},
          "execution_count": 70
        }
      ]
    },
    {
      "cell_type": "code",
      "source": [
        "import pickle\n",
        "import warnings\n",
        "warnings.resetwarnings()\n",
        "\n",
        "warnings.simplefilter('ignore', UserWarning)"
      ],
      "metadata": {
        "id": "lXrRzYjFYYAW"
      },
      "execution_count": null,
      "outputs": []
    },
    {
      "cell_type": "code",
      "source": [
        "# create an iterator object with write permission - model.pkl\n",
        "with open('model_rent_p', 'wb') as files:\n",
        "    pickle.dump(model, files)"
      ],
      "metadata": {
        "id": "Jmhjx1KkZLMn"
      },
      "execution_count": null,
      "outputs": []
    },
    {
      "cell_type": "code",
      "source": [
        "# load saved model\n",
        "with open('model_rent_p' , 'rb') as f:\n",
        "    lr = pickle.load(f)"
      ],
      "metadata": {
        "id": "EyyY253iZV4E"
      },
      "execution_count": null,
      "outputs": []
    },
    {
      "cell_type": "code",
      "source": [
        "lr.predict([[12.94160313, 77.56815588, 0, 1, 0, 0, 1300, 1, 2, 2, 3, 3, 1]])"
      ],
      "metadata": {
        "colab": {
          "base_uri": "https://localhost:8080/"
        },
        "id": "5RlqdjQJaWbn",
        "outputId": "71f89794-1b10-4502-ef69-dd8360088901"
      },
      "execution_count": null,
      "outputs": [
        {
          "output_type": "execute_result",
          "data": {
            "text/plain": [
              "array([28990.])"
            ]
          },
          "metadata": {},
          "execution_count": 78
        }
      ]
    },
    {
      "cell_type": "code",
      "source": [
        "print('latitude', 'longitude',\n",
        "       'gym', 'lift', 'swimming_pool', 'negotiable',\n",
        "       'property_size', 'property_age', 'bathroom',\n",
        "       'cup_board', 'floor', 'total_floor',\n",
        "       'balconies', sep=\", \")"
      ],
      "metadata": {
        "colab": {
          "base_uri": "https://localhost:8080/"
        },
        "id": "nGF3OqQfiwek",
        "outputId": "c3a7b123-2914-4317-c77c-67204234f913"
      },
      "execution_count": null,
      "outputs": [
        {
          "output_type": "stream",
          "name": "stdout",
          "text": [
            "latitude, longitude, gym, lift, swimming_pool, negotiable, property_size, property_age, bathroom, cup_board, floor, total_floor, balconies\n"
          ]
        }
      ]
    },
    {
      "cell_type": "code",
      "source": [
        "\n",
        "def predict_rent(latitude, longitude, gym, lift, swimming_pool, negotiable, property_size, property_age, bathroom, cup_board, floor, total_floor, balconies):\n",
        "  with open('model_rent_p' , 'rb') as f:\n",
        "    lr = pickle.load(f)\n",
        "    pr=lr.predict([[latitude, longitude, gym, lift, swimming_pool, negotiable, property_size, property_age, bathroom, cup_board, floor, total_floor, balconies]])\n",
        "    return pr[0]\n",
        "\n",
        "predict_rent(12.94160313, 77.56815588, 0, 1, 0, 0, 1300, 1, 2, 2, 3, 3, 1)"
      ],
      "metadata": {
        "colab": {
          "base_uri": "https://localhost:8080/"
        },
        "id": "MDgN74rvabRQ",
        "outputId": "18234295-a6c4-4ba0-d6c0-40694e06afb5"
      },
      "execution_count": null,
      "outputs": [
        {
          "output_type": "execute_result",
          "data": {
            "text/plain": [
              "28990.0"
            ]
          },
          "metadata": {},
          "execution_count": 82
        }
      ]
    },
    {
      "cell_type": "code",
      "source": [
        "submission = pd.concat([pd.Series(pred, name='rent')], axis=1)\n",
        "submission"
      ],
      "metadata": {
        "id": "ni7QujbQjjwc",
        "colab": {
          "base_uri": "https://localhost:8080/",
          "height": 656
        },
        "outputId": "035c010b-39c9-47ce-8b01-19a1a5dea78f"
      },
      "execution_count": 87,
      "outputs": [
        {
          "output_type": "execute_result",
          "data": {
            "text/plain": [
              "          rent\n",
              "0     16400.00\n",
              "1      9267.50\n",
              "2     12330.00\n",
              "3     20534.99\n",
              "4     10310.00\n",
              "...        ...\n",
              "5120  11970.00\n",
              "5121  17745.00\n",
              "5122  12605.00\n",
              "5123  17560.00\n",
              "5124  19265.00\n",
              "\n",
              "[5125 rows x 1 columns]"
            ],
            "text/html": [
              "\n",
              "  <div id=\"df-7ccad04c-0370-461a-881c-99da29d2a03f\">\n",
              "    <div class=\"colab-df-container\">\n",
              "      <div>\n",
              "<style scoped>\n",
              "    .dataframe tbody tr th:only-of-type {\n",
              "        vertical-align: middle;\n",
              "    }\n",
              "\n",
              "    .dataframe tbody tr th {\n",
              "        vertical-align: top;\n",
              "    }\n",
              "\n",
              "    .dataframe thead th {\n",
              "        text-align: right;\n",
              "    }\n",
              "</style>\n",
              "<table border=\"1\" class=\"dataframe\">\n",
              "  <thead>\n",
              "    <tr style=\"text-align: right;\">\n",
              "      <th></th>\n",
              "      <th>rent</th>\n",
              "    </tr>\n",
              "  </thead>\n",
              "  <tbody>\n",
              "    <tr>\n",
              "      <th>0</th>\n",
              "      <td>16400.00</td>\n",
              "    </tr>\n",
              "    <tr>\n",
              "      <th>1</th>\n",
              "      <td>9267.50</td>\n",
              "    </tr>\n",
              "    <tr>\n",
              "      <th>2</th>\n",
              "      <td>12330.00</td>\n",
              "    </tr>\n",
              "    <tr>\n",
              "      <th>3</th>\n",
              "      <td>20534.99</td>\n",
              "    </tr>\n",
              "    <tr>\n",
              "      <th>4</th>\n",
              "      <td>10310.00</td>\n",
              "    </tr>\n",
              "    <tr>\n",
              "      <th>...</th>\n",
              "      <td>...</td>\n",
              "    </tr>\n",
              "    <tr>\n",
              "      <th>5120</th>\n",
              "      <td>11970.00</td>\n",
              "    </tr>\n",
              "    <tr>\n",
              "      <th>5121</th>\n",
              "      <td>17745.00</td>\n",
              "    </tr>\n",
              "    <tr>\n",
              "      <th>5122</th>\n",
              "      <td>12605.00</td>\n",
              "    </tr>\n",
              "    <tr>\n",
              "      <th>5123</th>\n",
              "      <td>17560.00</td>\n",
              "    </tr>\n",
              "    <tr>\n",
              "      <th>5124</th>\n",
              "      <td>19265.00</td>\n",
              "    </tr>\n",
              "  </tbody>\n",
              "</table>\n",
              "<p>5125 rows × 1 columns</p>\n",
              "</div>\n",
              "      <button class=\"colab-df-convert\" onclick=\"convertToInteractive('df-7ccad04c-0370-461a-881c-99da29d2a03f')\"\n",
              "              title=\"Convert this dataframe to an interactive table.\"\n",
              "              style=\"display:none;\">\n",
              "        \n",
              "  <svg xmlns=\"http://www.w3.org/2000/svg\" height=\"24px\"viewBox=\"0 0 24 24\"\n",
              "       width=\"24px\">\n",
              "    <path d=\"M0 0h24v24H0V0z\" fill=\"none\"/>\n",
              "    <path d=\"M18.56 5.44l.94 2.06.94-2.06 2.06-.94-2.06-.94-.94-2.06-.94 2.06-2.06.94zm-11 1L8.5 8.5l.94-2.06 2.06-.94-2.06-.94L8.5 2.5l-.94 2.06-2.06.94zm10 10l.94 2.06.94-2.06 2.06-.94-2.06-.94-.94-2.06-.94 2.06-2.06.94z\"/><path d=\"M17.41 7.96l-1.37-1.37c-.4-.4-.92-.59-1.43-.59-.52 0-1.04.2-1.43.59L10.3 9.45l-7.72 7.72c-.78.78-.78 2.05 0 2.83L4 21.41c.39.39.9.59 1.41.59.51 0 1.02-.2 1.41-.59l7.78-7.78 2.81-2.81c.8-.78.8-2.07 0-2.86zM5.41 20L4 18.59l7.72-7.72 1.47 1.35L5.41 20z\"/>\n",
              "  </svg>\n",
              "      </button>\n",
              "      \n",
              "  <style>\n",
              "    .colab-df-container {\n",
              "      display:flex;\n",
              "      flex-wrap:wrap;\n",
              "      gap: 12px;\n",
              "    }\n",
              "\n",
              "    .colab-df-convert {\n",
              "      background-color: #E8F0FE;\n",
              "      border: none;\n",
              "      border-radius: 50%;\n",
              "      cursor: pointer;\n",
              "      display: none;\n",
              "      fill: #1967D2;\n",
              "      height: 32px;\n",
              "      padding: 0 0 0 0;\n",
              "      width: 32px;\n",
              "    }\n",
              "\n",
              "    .colab-df-convert:hover {\n",
              "      background-color: #E2EBFA;\n",
              "      box-shadow: 0px 1px 2px rgba(60, 64, 67, 0.3), 0px 1px 3px 1px rgba(60, 64, 67, 0.15);\n",
              "      fill: #174EA6;\n",
              "    }\n",
              "\n",
              "    [theme=dark] .colab-df-convert {\n",
              "      background-color: #3B4455;\n",
              "      fill: #D2E3FC;\n",
              "    }\n",
              "\n",
              "    [theme=dark] .colab-df-convert:hover {\n",
              "      background-color: #434B5C;\n",
              "      box-shadow: 0px 1px 3px 1px rgba(0, 0, 0, 0.15);\n",
              "      filter: drop-shadow(0px 1px 2px rgba(0, 0, 0, 0.3));\n",
              "      fill: #FFFFFF;\n",
              "    }\n",
              "  </style>\n",
              "\n",
              "      <script>\n",
              "        const buttonEl =\n",
              "          document.querySelector('#df-7ccad04c-0370-461a-881c-99da29d2a03f button.colab-df-convert');\n",
              "        buttonEl.style.display =\n",
              "          google.colab.kernel.accessAllowed ? 'block' : 'none';\n",
              "\n",
              "        async function convertToInteractive(key) {\n",
              "          const element = document.querySelector('#df-7ccad04c-0370-461a-881c-99da29d2a03f');\n",
              "          const dataTable =\n",
              "            await google.colab.kernel.invokeFunction('convertToInteractive',\n",
              "                                                     [key], {});\n",
              "          if (!dataTable) return;\n",
              "\n",
              "          const docLinkHtml = 'Like what you see? Visit the ' +\n",
              "            '<a target=\"_blank\" href=https://colab.research.google.com/notebooks/data_table.ipynb>data table notebook</a>'\n",
              "            + ' to learn more about interactive tables.';\n",
              "          element.innerHTML = '';\n",
              "          dataTable['output_type'] = 'display_data';\n",
              "          await google.colab.output.renderOutput(dataTable, element);\n",
              "          const docLink = document.createElement('div');\n",
              "          docLink.innerHTML = docLinkHtml;\n",
              "          element.appendChild(docLink);\n",
              "        }\n",
              "      </script>\n",
              "    </div>\n",
              "  </div>\n",
              "  "
            ]
          },
          "metadata": {},
          "execution_count": 87
        }
      ]
    },
    {
      "cell_type": "code",
      "source": [
        "submission.to_csv('./submission.csv', index=False, header=True)"
      ],
      "metadata": {
        "id": "zniiYh5GxFBx"
      },
      "execution_count": 88,
      "outputs": []
    },
    {
      "cell_type": "code",
      "source": [],
      "metadata": {
        "id": "fI_G6NiI0kQm"
      },
      "execution_count": null,
      "outputs": []
    }
  ]
}